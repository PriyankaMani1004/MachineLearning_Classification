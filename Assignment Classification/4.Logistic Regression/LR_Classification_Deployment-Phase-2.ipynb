{
 "cells": [
  {
   "cell_type": "code",
   "execution_count": 1,
   "id": "dcf8bbc6-649c-45b6-84ae-4f57b6e83369",
   "metadata": {},
   "outputs": [],
   "source": [
    "import pickle"
   ]
  },
  {
   "cell_type": "code",
   "execution_count": 2,
   "id": "0c50a44b-f055-4732-b756-b885921fc20a",
   "metadata": {},
   "outputs": [
    {
     "name": "stdin",
     "output_type": "stream",
     "text": [
      "Age: 21\n",
      "bp: 120\n",
      "al 45\n",
      "su 55\n",
      "bgr 10\n",
      "bu 12\n",
      "sc 15\n",
      "sod 20\n",
      "pot 25\n",
      "hrmo 30\n",
      "pcv 35\n",
      "wc 40\n",
      "rc 45\n",
      "sg_b 50\n",
      "sg_c 55\n",
      "sg_d 60\n",
      "sg_e 65\n",
      "rbc_normal 70\n",
      "pc_normal 75\n",
      "pcc_present 80\n",
      "ba_present 85\n",
      "htn_yes 1\n",
      "dm_yes 1\n",
      "cad_yes 1\n",
      "appet_yes 0\n",
      "pe_yes 0\n",
      "ane_yes 0\n"
     ]
    }
   ],
   "source": [
    "## age=float(input(\"Age:\"))\n",
    "bp=float(input(\"bp:\"))\n",
    "al=int(input(\"al\"))\n",
    "su=int(input(\"su\"))\n",
    "bgr=int(input(\"bgr\"))\n",
    "bu=int(input(\"bu\"))\n",
    "sc=int(input(\"sc\"))\n",
    "sod=int(input(\"sod\"))\n",
    "pot=int(input(\"pot\"))\n",
    "hrmo=int(input(\"hrmo\"))\n",
    "pcv=int(input(\"pcv\"))\n",
    "wc=int(input(\"wc\"))\n",
    "rc=int(input(\"rc\"))\n",
    "sg_b=int(input(\"sg_b\"))\n",
    "sg_c=int(input(\"sg_c\"))\n",
    "sg_d=int(input(\"sg_d\"))\n",
    "sg_e=int(input(\"sg_e\"))\n",
    "rbc_normal=int(input(\"rbc_normal\"))\n",
    "pc_normal=int(input(\"pc_normal\"))\n",
    "pcc_present=int(input(\"pcc_present\"))\n",
    "ba_present=int(input(\"ba_present\"))\n",
    "htn_yes=int(input(\"htn_yes\"))\n",
    "dm_yes=int(input(\"dm_yes\"))\n",
    "cad_yes=int(input(\"cad_yes\"))\n",
    "appet_yes=int(input(\"appet_yes\"))\n",
    "pe_yes=int(input(\"pe_yes\"))\n",
    "ane_yes=int(input(\"ane_yes\"))"
   ]
  },
  {
   "cell_type": "code",
   "execution_count": 3,
   "id": "4ad08de9-f202-4a9a-ba66-c2e1bc55b236",
   "metadata": {},
   "outputs": [
    {
     "data": {
      "text/plain": [
       "array([1], dtype=int64)"
      ]
     },
     "execution_count": 3,
     "metadata": {},
     "output_type": "execute_result"
    }
   ],
   "source": [
    "loaded_model=pickle.load(open(\"finalized_model_Logisitcregression.sav\",'rb'))\n",
    "result=loaded_model.predict([[age, bp, al, su, bgr, bu, sc, sod, pot, hrmo, pcv,\n",
    "                                wc, rc, sg_b, sg_c, sg_d, sg_e, rbc_normal, pc_normal,\n",
    "                                pcc_present, ba_present, htn_yes, dm_yes, cad_yes,\n",
    "                                appet_yes, pe_yes, ane_yes]])\n",
    "result"
   ]
  },
  {
   "cell_type": "code",
   "execution_count": null,
   "id": "26d21a94-957d-4c90-8320-573d3f846c9d",
   "metadata": {},
   "outputs": [],
   "source": []
  }
 ],
 "metadata": {
  "kernelspec": {
   "display_name": "Python [conda env:base] *",
   "language": "python",
   "name": "conda-base-py"
  },
  "language_info": {
   "codemirror_mode": {
    "name": "ipython",
    "version": 3
   },
   "file_extension": ".py",
   "mimetype": "text/x-python",
   "name": "python",
   "nbconvert_exporter": "python",
   "pygments_lexer": "ipython3",
   "version": "3.12.7"
  }
 },
 "nbformat": 4,
 "nbformat_minor": 5
}
