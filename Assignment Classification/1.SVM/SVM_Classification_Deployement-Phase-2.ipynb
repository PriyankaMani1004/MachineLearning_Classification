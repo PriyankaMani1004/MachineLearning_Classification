{
 "cells": [
  {
   "cell_type": "code",
   "execution_count": 1,
   "id": "f1969adb-8686-4ee5-b909-fdaccce02cf0",
   "metadata": {},
   "outputs": [],
   "source": [
    "import pickle"
   ]
  },
  {
   "cell_type": "code",
   "execution_count": 2,
   "id": "f2bd163d-1a16-4911-8188-fe5e29047cf7",
   "metadata": {},
   "outputs": [
    {
     "name": "stdin",
     "output_type": "stream",
     "text": [
      "Age: 34\n",
      "bp: 100\n",
      "al 34\n",
      "su 54\n",
      "bgr 23\n",
      "bu 78\n",
      "sc 67\n",
      "sod 56\n",
      "pot 45\n",
      "hrmo 456\n",
      "pcv 36\n",
      "wc 12\n",
      "rc 98\n",
      "sg_b 63\n",
      "sg_c 49\n",
      "sg_d 75\n",
      "sg_e 44\n",
      "rbc_normal 55\n",
      "pc_normal 76\n",
      "pcc_present 22\n",
      "ba_present 11\n",
      "htn_yes 0\n",
      "dm_yes 1\n",
      "cad_yes 1\n",
      "appet_yes 1\n",
      "pe_yes 0\n",
      "ane_yes 0\n"
     ]
    }
   ],
   "source": [
    "##### age=float(input(\"Age:\"))\n",
    "bp=float(input(\"bp:\"))\n",
    "al=int(input(\"al\"))\n",
    "su=int(input(\"su\"))\n",
    "bgr=int(input(\"bgr\"))\n",
    "bu=int(input(\"bu\"))\n",
    "sc=int(input(\"sc\"))\n",
    "sod=int(input(\"sod\"))\n",
    "pot=int(input(\"pot\"))\n",
    "hrmo=int(input(\"hrmo\"))\n",
    "pcv=int(input(\"pcv\"))\n",
    "wc=int(input(\"wc\"))\n",
    "rc=int(input(\"rc\"))\n",
    "sg_b=int(input(\"sg_b\"))\n",
    "sg_c=int(input(\"sg_c\"))\n",
    "sg_d=int(input(\"sg_d\"))\n",
    "sg_e=int(input(\"sg_e\"))\n",
    "rbc_normal=int(input(\"rbc_normal\"))\n",
    "pc_normal=int(input(\"pc_normal\"))\n",
    "pcc_present=int(input(\"pcc_present\"))\n",
    "ba_present=int(input(\"ba_present\"))\n",
    "htn_yes=int(input(\"htn_yes\"))\n",
    "dm_yes=int(input(\"dm_yes\"))\n",
    "cad_yes=int(input(\"cad_yes\"))\n",
    "appet_yes=int(input(\"appet_yes\"))\n",
    "pe_yes=int(input(\"pe_yes\"))\n",
    "ane_yes=int(input(\"ane_yes\"))"
   ]
  },
  {
   "cell_type": "code",
   "execution_count": 3,
   "id": "7ebcf5a0-d34f-45db-b84e-97702a3ab951",
   "metadata": {},
   "outputs": [
    {
     "data": {
      "text/plain": [
       "array([0], dtype=int64)"
      ]
     },
     "execution_count": 3,
     "metadata": {},
     "output_type": "execute_result"
    }
   ],
   "source": [
    "loaded_model=pickle.load(open(\"finalized_model_SVM.sav\",'rb'))\n",
    "result=loaded_model.predict([[age, bp, al, su, bgr, bu, sc, sod, pot, hrmo, pcv,\n",
    "                                wc, rc, sg_b, sg_c, sg_d, sg_e, rbc_normal, pc_normal,\n",
    "                                pcc_present, ba_present, htn_yes, dm_yes, cad_yes,\n",
    "                                appet_yes, pe_yes, ane_yes]])\n",
    "result"
   ]
  },
  {
   "cell_type": "code",
   "execution_count": null,
   "id": "a6058b91-ec54-47ff-826d-7c51972de70a",
   "metadata": {},
   "outputs": [],
   "source": []
  }
 ],
 "metadata": {
  "kernelspec": {
   "display_name": "Python [conda env:base] *",
   "language": "python",
   "name": "conda-base-py"
  },
  "language_info": {
   "codemirror_mode": {
    "name": "ipython",
    "version": 3
   },
   "file_extension": ".py",
   "mimetype": "text/x-python",
   "name": "python",
   "nbconvert_exporter": "python",
   "pygments_lexer": "ipython3",
   "version": "3.12.7"
  }
 },
 "nbformat": 4,
 "nbformat_minor": 5
}
